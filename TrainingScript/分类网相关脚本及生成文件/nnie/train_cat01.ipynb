{
  "cells": [
    {
      "cell_type": "code",
      "metadata": {
        "trusted": true
      },
      "outputs": [],
      "execution_count": null,
      "source": [
        "import os\n",
        "try:\n    os.chdir(\"/home/ma-user/work/algo-train_cat01\")\nexcept:\n    pass\n",
        "%run -i 'naie_platform/requirements.py' # run this line to install requirements \n"
      ]
    },
    {
      "cell_type": "code",
      "metadata": {
        "trusted": true
      },
      "outputs": [],
      "execution_count": null,
      "source": [
        "from naie.context import Context\n",
        "# Context.set(\"key\", \"value\") \n",
        "%run -i 'train_cat01.py'"
      ]
    }
  ],
  "metadata": {
    "kernelspec": {
      "display_name": "Python 2",
      "language": "python",
      "name": "python2"
    },
    "language_info": {
      "codemirror_mode": {
        "name": "ipython",
        "version": 2
      },
      "file_extension": ".py",
      "mimetype": "text/x-python",
      "name": "python",
      "nbconvert_exporter": "python",
      "pygments_lexer": "ipython2",
      "version": "2.7.12"
    }
  },
  "nbformat": 4,
  "nbformat_minor": 2
}